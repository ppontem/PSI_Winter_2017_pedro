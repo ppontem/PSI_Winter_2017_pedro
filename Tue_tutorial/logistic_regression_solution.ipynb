{
 "cells": [
  {
   "cell_type": "code",
   "execution_count": 12,
   "metadata": {
    "collapsed": false
   },
   "outputs": [
    {
     "name": "stdout",
     "output_type": "stream",
     "text": [
      "Populating the interactive namespace from numpy and matplotlib\n"
     ]
    }
   ],
   "source": [
    "%pylab inline"
   ]
  },
  {
   "cell_type": "code",
   "execution_count": 1,
   "metadata": {
    "collapsed": false
   },
   "outputs": [
    {
     "name": "stdout",
     "output_type": "stream",
     "text": [
      "Successfully downloaded train-images-idx3-ubyte.gz 9912422 bytes.\n",
      "Extracting MNIST_data/train-images-idx3-ubyte.gz\n",
      "Successfully downloaded train-labels-idx1-ubyte.gz 28881 bytes.\n",
      "Extracting MNIST_data/train-labels-idx1-ubyte.gz\n",
      "Successfully downloaded t10k-images-idx3-ubyte.gz 1648877 bytes.\n",
      "Extracting MNIST_data/t10k-images-idx3-ubyte.gz\n",
      "Successfully downloaded t10k-labels-idx1-ubyte.gz 4542 bytes.\n",
      "Extracting MNIST_data/t10k-labels-idx1-ubyte.gz\n"
     ]
    }
   ],
   "source": [
    "from tensorflow.examples.tutorials.mnist import input_data\n",
    "mnist = input_data.read_data_sets('MNIST_data', one_hot=False)"
   ]
  },
  {
   "cell_type": "code",
   "execution_count": 4,
   "metadata": {
    "collapsed": false
   },
   "outputs": [
    {
     "data": {
      "text/plain": [
       "(55000, 784)"
      ]
     },
     "execution_count": 4,
     "metadata": {},
     "output_type": "execute_result"
    }
   ],
   "source": [
    "mnist.train.images.shape"
   ]
  },
  {
   "cell_type": "code",
   "execution_count": 14,
   "metadata": {
    "collapsed": false
   },
   "outputs": [],
   "source": [
    "X_ = np.vstack((mnist.train.images[(mnist.train.labels == 0)], mnist.train.images[(mnist.train.labels == 1)]))"
   ]
  },
  {
   "cell_type": "code",
   "execution_count": 16,
   "metadata": {
    "collapsed": true
   },
   "outputs": [],
   "source": [
    "X = np.ones((X_.shape[0],X_.shape[1]+1))\n",
    "X[:, 1:] = X_"
   ]
  },
  {
   "cell_type": "code",
   "execution_count": 20,
   "metadata": {
    "collapsed": true
   },
   "outputs": [],
   "source": [
    "y = np.asarray(mnist.train.labels[(mnist.train.labels == 0)].tolist() + mnist.train.labels[(mnist.train.labels == 1)].tolist()) "
   ]
  },
  {
   "cell_type": "code",
   "execution_count": 64,
   "metadata": {
    "collapsed": true
   },
   "outputs": [],
   "source": [
    "from sklearn.model_selection import train_test_split\n",
    "from sklearn.metrics import accuracy_score"
   ]
  },
  {
   "cell_type": "code",
   "execution_count": 31,
   "metadata": {
    "collapsed": true
   },
   "outputs": [],
   "source": [
    "import sklearn"
   ]
  },
  {
   "cell_type": "code",
   "execution_count": 32,
   "metadata": {
    "collapsed": false
   },
   "outputs": [
    {
     "data": {
      "text/plain": [
       "'0.18.1'"
      ]
     },
     "execution_count": 32,
     "metadata": {},
     "output_type": "execute_result"
    }
   ],
   "source": [
    "sklearn.__version__"
   ]
  },
  {
   "cell_type": "code",
   "execution_count": 41,
   "metadata": {
    "collapsed": false
   },
   "outputs": [],
   "source": [
    "X_train, _,  y_train, _ = train_test_split(X, y, train_size=1000, random_state=42)"
   ]
  },
  {
   "cell_type": "code",
   "execution_count": 75,
   "metadata": {
    "collapsed": true
   },
   "outputs": [],
   "source": [
    "np.save(\"X_train\", X_train)\n",
    "np.save(\"y_train\", y_train)"
   ]
  },
  {
   "cell_type": "code",
   "execution_count": 80,
   "metadata": {
    "collapsed": false
   },
   "outputs": [
    {
     "data": {
      "text/plain": [
       "<matplotlib.image.AxesImage at 0x12e44a0d0>"
      ]
     },
     "execution_count": 80,
     "metadata": {},
     "output_type": "execute_result"
    },
    {
     "data": {
      "image/png": "[encoded data removed]",
      "text/plain": [
       "<matplotlib.figure.Figure at 0x12e36a1d0>"
      ]
     },
     "metadata": {},
     "output_type": "display_data"
    }
   ],
   "source": [
    "fig, axes = plt.subplots(1, 2)\n",
    "axes[0].imshow(X_train[0][1:].reshape((28, 28)))\n",
    "axes[1].imshow(X_train[1][1:].reshape((28, 28)))"
   ]
  },
  {
   "cell_type": "code",
   "execution_count": 81,
   "metadata": {
    "collapsed": true
   },
   "outputs": [],
   "source": [
    "class LogisticRegression:\n",
    "    \n",
    "    def __init__(self, X, y):\n",
    "        self.X_ = X\n",
    "        self.y_ = y\n",
    "        self.w_ = np.zeros(X.shape[1])\n",
    "    \n",
    "    def sigmoid_(self, z):\n",
    "        return 1.0/(1.0 + np.exp(-z))\n",
    "    \n",
    "    def gradient_(self):\n",
    "        Xw =  self.X_.dot(self.w_)\n",
    "        v_ = self.y_ - self.sigmoid_(Xw)\n",
    "        return -1.0*self.X_.T.dot(v_)\n",
    "    \n",
    "    def gradient_step(self, learning_rate):\n",
    "        self.w_ -= learning_rate*self.gradient_()\n",
    "        \n",
    "    def accuracy(self):\n",
    "        return accuracy_score(self.y_, (self.sigmoid_(self.X_.dot(self.w_)) > 0.5).astype(int))"
   ]
  },
  {
   "cell_type": "code",
   "execution_count": 74,
   "metadata": {
    "collapsed": false
   },
   "outputs": [
    {
     "name": "stdout",
     "output_type": "stream",
     "text": [
      "Initial accuracy: 0.451\n",
      "Accuracy after step 1: 0.986\n",
      "Accuracy after step 2: 0.989\n",
      "Accuracy after step 3: 0.989\n",
      "Accuracy after step 4: 0.989\n",
      "Accuracy after step 5: 0.989\n",
      "Accuracy after step 6: 0.992\n",
      "Accuracy after step 7: 0.992\n",
      "Accuracy after step 8: 0.992\n",
      "Accuracy after step 9: 0.992\n",
      "Accuracy after step 10: 0.992\n",
      "Accuracy after step 11: 0.992\n",
      "Accuracy after step 12: 0.993\n",
      "Accuracy after step 13: 0.993\n",
      "Accuracy after step 14: 0.993\n",
      "Accuracy after step 15: 0.993\n",
      "Accuracy after step 16: 0.993\n",
      "Accuracy after step 17: 0.993\n",
      "Accuracy after step 18: 0.993\n",
      "Accuracy after step 19: 0.993\n",
      "Accuracy after step 20: 0.993\n",
      "Accuracy after step 21: 0.993\n",
      "Accuracy after step 22: 0.993\n",
      "Accuracy after step 23: 0.994\n",
      "Accuracy after step 24: 0.995\n",
      "Accuracy after step 25: 0.996\n",
      "Accuracy after step 26: 0.997\n",
      "Accuracy after step 27: 0.997\n",
      "Accuracy after step 28: 0.998\n",
      "Accuracy after step 29: 0.998\n",
      "Accuracy after step 30: 0.998\n",
      "Accuracy after step 31: 0.998\n",
      "Accuracy after step 32: 0.998\n",
      "Accuracy after step 33: 0.998\n",
      "Accuracy after step 34: 0.998\n",
      "Accuracy after step 35: 0.998\n",
      "Accuracy after step 36: 0.998\n",
      "Accuracy after step 37: 0.998\n",
      "Accuracy after step 38: 0.999\n",
      "Accuracy after step 39: 0.999\n",
      "Accuracy after step 40: 0.999\n",
      "Accuracy after step 41: 0.999\n",
      "Accuracy after step 42: 0.999\n",
      "Accuracy after step 43: 0.999\n",
      "Accuracy after step 44: 0.999\n",
      "Accuracy after step 45: 0.999\n",
      "Accuracy after step 46: 0.999\n",
      "Accuracy after step 47: 0.999\n",
      "Accuracy after step 48: 0.999\n",
      "Accuracy after step 49: 0.999\n",
      "Accuracy after step 50: 0.999\n",
      "Accuracy after step 51: 0.999\n",
      "Accuracy after step 52: 0.999\n",
      "Accuracy after step 53: 0.999\n",
      "Accuracy after step 54: 0.999\n",
      "Accuracy after step 55: 1.0\n",
      "Accuracy after step 56: 1.0\n",
      "Accuracy after step 57: 1.0\n",
      "Accuracy after step 58: 1.0\n",
      "Accuracy after step 59: 1.0\n",
      "Accuracy after step 60: 1.0\n",
      "Accuracy after step 61: 1.0\n",
      "Accuracy after step 62: 1.0\n",
      "Accuracy after step 63: 1.0\n",
      "Accuracy after step 64: 1.0\n",
      "Accuracy after step 65: 1.0\n",
      "Accuracy after step 66: 1.0\n",
      "Accuracy after step 67: 1.0\n",
      "Accuracy after step 68: 1.0\n",
      "Accuracy after step 69: 1.0\n",
      "Accuracy after step 70: 1.0\n",
      "Accuracy after step 71: 1.0\n",
      "Accuracy after step 72: 1.0\n",
      "Accuracy after step 73: 1.0\n",
      "Accuracy after step 74: 1.0\n",
      "Accuracy after step 75: 1.0\n",
      "Accuracy after step 76: 1.0\n",
      "Accuracy after step 77: 1.0\n",
      "Accuracy after step 78: 1.0\n",
      "Accuracy after step 79: 1.0\n",
      "Accuracy after step 80: 1.0\n",
      "Accuracy after step 81: 1.0\n",
      "Accuracy after step 82: 1.0\n",
      "Accuracy after step 83: 1.0\n",
      "Accuracy after step 84: 1.0\n",
      "Accuracy after step 85: 1.0\n",
      "Accuracy after step 86: 1.0\n",
      "Accuracy after step 87: 1.0\n",
      "Accuracy after step 88: 1.0\n",
      "Accuracy after step 89: 1.0\n",
      "Accuracy after step 90: 1.0\n",
      "Accuracy after step 91: 1.0\n",
      "Accuracy after step 92: 1.0\n",
      "Accuracy after step 93: 1.0\n",
      "Accuracy after step 94: 1.0\n",
      "Accuracy after step 95: 1.0\n",
      "Accuracy after step 96: 1.0\n",
      "Accuracy after step 97: 1.0\n",
      "Accuracy after step 98: 1.0\n",
      "Accuracy after step 99: 1.0\n",
      "Accuracy after step 100: 1.0\n"
     ]
    }
   ],
   "source": [
    "model = LogisticRegression(X_train, y_train)\n",
    "learning_rate = 0.01\n",
    "print \"Initial accuracy:\", model.accuracy()\n",
    "for i in range(100):\n",
    "    model.gradient_step(learning_rate)\n",
    "    print \"Accuracy after step {}: {}\".format(i+1, model.accuracy())"
   ]
  }
 ],
 "metadata": {
  "anaconda-cloud": {},
  "kernelspec": {
   "display_name": "Python [conda env:tensorflow]",
   "language": "python",
   "name": "conda-env-tensorflow-py"
  },
  "language_info": {
   "codemirror_mode": {
    "name": "ipython",
    "version": 2
   },
   "file_extension": ".py",
   "mimetype": "text/x-python",
   "name": "python",
   "nbconvert_exporter": "python",
   "pygments_lexer": "ipython2",
   "version": "2.7.13"
  }
 },
 "nbformat": 4,
 "nbformat_minor": 2
}
