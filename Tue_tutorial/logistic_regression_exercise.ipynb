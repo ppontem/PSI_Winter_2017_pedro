{
 "cells": [
  {
   "cell_type": "code",
   "execution_count": 7,
   "metadata": {
    "collapsed": false
   },
   "outputs": [
    {
     "name": "stdout",
     "output_type": "stream",
     "text": [
      "Populating the interactive namespace from numpy and matplotlib\n"
     ]
    },
    {
     "name": "stderr",
     "output_type": "stream",
     "text": [
      "/Users/pedro/anaconda/envs/tensorflow/lib/python2.7/site-packages/IPython/core/magics/pylab.py:161: UserWarning: pylab import has clobbered these variables: ['axes']\n",
      "`%matplotlib` prevents importing * from pylab and numpy\n",
      "  \"\\n`%matplotlib` prevents importing * from pylab and numpy\"\n"
     ]
    }
   ],
   "source": [
    "%pylab inline"
   ]
  },
  {
   "cell_type": "markdown",
   "metadata": {},
   "source": [
    "We will apply logistic regression to the task of classifying images of handwritten zeros and ones."
   ]
  },
  {
   "cell_type": "code",
   "execution_count": 5,
   "metadata": {
    "collapsed": false
   },
   "outputs": [],
   "source": [
    "# Load the data\n",
    "X_train = np.load(\"X_train.npy\") # X_train has shape (number of samples, number of pixels + 1)\n",
    "y_train = np.load(\"y_train.npy\") # 1d array of labels 0 or 1"
   ]
  },
  {
   "cell_type": "code",
   "execution_count": 6,
   "metadata": {
    "collapsed": false
   },
   "outputs": [
    {
     "data": {
      "text/plain": [
       "<matplotlib.image.AxesImage at 0x113dd3dd0>"
      ]
     },
     "execution_count": 6,
     "metadata": {},
     "output_type": "execute_result"
    },
    {
     "data": {
      "image/png": "[encoded data removed]",
      "text/plain": [
       "<matplotlib.figure.Figure at 0x1099c3450>"
      ]
     },
     "metadata": {},
     "output_type": "display_data"
    }
   ],
   "source": [
    "# Visualizing the first and second samples\n",
    "fig, axes = plt.subplots(1, 2)\n",
    "axes[0].imshow(X_train[0][1:].reshape((28, 28)))\n",
    "axes[1].imshow(X_train[1][1:].reshape((28, 28)))"
   ]
  },
  {
   "cell_type": "code",
   "execution_count": null,
   "metadata": {
    "collapsed": true
   },
   "outputs": [],
   "source": [
    "def my_accuracy(y_true, y_pred):\n",
    "    return np.mean(y_true == y_pred)\n",
    "\n",
    "class LogisticRegression:\n",
    "    \n",
    "    def __init__(self, X, y):\n",
    "        self.X_ = X\n",
    "        self.y_ = y\n",
    "        self.w_ = np.zeros(X.shape[1])\n",
    "    \n",
    "    def sigmoid_(self, z):\n",
    "        pass\n",
    "    \n",
    "    def gradient_(self):\n",
    "        pass\n",
    "    \n",
    "    def gradient_step(self, learning_rate):\n",
    "        pass\n",
    "        \n",
    "    def accuracy(self):\n",
    "        return my_accuracy(self.y_, (self.sigmoid_(self.X_.dot(self.w_)) > 0.5).astype(int))"
   ]
  },
  {
   "cell_type": "code",
   "execution_count": null,
   "metadata": {
    "collapsed": true
   },
   "outputs": [],
   "source": [
    "# Test your implementation\n",
    "model = LogisticRegression(X_train, y_train)\n",
    "learning_rate = 0.01\n",
    "print \"Initial accuracy:\", model.accuracy()\n",
    "for i in range(100):\n",
    "    model.gradient_step(learning_rate) # updates the weights w\n",
    "    print \"Accuracy after step {}: {}\".format(i+1, model.accuracy())"
   ]
  }
 ],
 "metadata": {
  "anaconda-cloud": {},
  "kernelspec": {
   "display_name": "Python [conda env:tensorflow]",
   "language": "python",
   "name": "conda-env-tensorflow-py"
  },
  "language_info": {
   "codemirror_mode": {
    "name": "ipython",
    "version": 2
   },
   "file_extension": ".py",
   "mimetype": "text/x-python",
   "name": "python",
   "nbconvert_exporter": "python",
   "pygments_lexer": "ipython2",
   "version": "2.7.13"
  }
 },
 "nbformat": 4,
 "nbformat_minor": 2
}
